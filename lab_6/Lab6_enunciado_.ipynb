version https://git-lfs.github.com/spec/v1
oid sha256:791a37ff78fbe3e3de40278dd9dfc84a784b7c2628f79e0363805a54452104be
size 113287215
