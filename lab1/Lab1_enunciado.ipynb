{
 "cells": [
  {
   "cell_type": "markdown",
   "metadata": {
    "cell_id": "097fce6dce21405c911254a775ae3d26",
    "deepnote_cell_type": "markdown",
    "id": "J4_IcuuKZj9Y"
   },
   "source": [
    "<h1><center>Laboratorio 1: Git 👾</center></h1>\n",
    "\n",
    "<center><strong>MDS7202: Laboratorio de Programación Científica para Ciencia de Datos - Otoño 2024</strong></center>"
   ]
  },
  {
   "cell_type": "markdown",
   "metadata": {
    "cell_id": "9e8e8f2ae34e461da4f44508a96d2cf4",
    "deepnote_cell_type": "markdown",
    "id": "AEXIACc7aADv"
   },
   "source": [
    "### Cuerpo Docente:\n",
    "\n",
    "- Profesores: Ignacio Meza, Sebastián Tinoco\n",
    "- Auxiliar: Catherine Benavides\n",
    "- Ayudante: Nicolás Ojeda, Eduardo Moya"
   ]
  },
  {
   "cell_type": "markdown",
   "metadata": {
    "cell_id": "3e5b48c23e1b48f6a64de41899166179",
    "deepnote_cell_type": "markdown",
    "id": "0HgMMyoCaG8X"
   },
   "source": [
    "### Equipo: **SUPER IMPORTANTE - notebooks sin nombre no serán revisados**\n",
    "\n",
    "- Nombre de alumno: Javier Mora"
   ]
  },
  {
   "cell_type": "markdown",
   "metadata": {
    "cell_id": "1db7c82b68614d19b112ba3b0d0abe4d",
    "deepnote_cell_type": "markdown",
    "id": "fz77X6glaK6y"
   },
   "source": [
    "### **Link de repositorio de GitHub:** `...`"
   ]
  },
  {
   "cell_type": "markdown",
   "metadata": {
    "cell_id": "bc3dac65089d4ae6a43c079547dee179",
    "deepnote_cell_type": "markdown",
    "id": "rRwqaxIZaNx3"
   },
   "source": [
    "## Reglas:\n",
    "\n",
    "- **Grupos de 2 personas**\n",
    "- Fecha de entrega: 7 días desde la publicación, 3 días de atraso con 1 punto de descuento c/u.\n",
    "- Instrucciones del lab el viernes a las 16:15 en formato online. Asistencia no es obligatoria.\n",
    "- <u>Prohibidas las copias</u>. Cualquier intento de copia será debidamente penalizado con el reglamento de la escuela.\n",
    "- Tienen que subir el laboratorio a u-cursos Y a su repositorio de github. Labs que no estén en u-cursos no serán revisados. Recuerden que el repositorio también tiene nota.\n",
    "- Cualquier duda fuera del horario de clases al foro. Mensajes al equipo docente serán respondidos por este medio.\n",
    "- Pueden usar cualquer material del curso que estimen conveniente."
   ]
  },
  {
   "cell_type": "markdown",
   "metadata": {
    "cell_id": "05e4729411a24153837fd13b7f198bd9",
    "deepnote_cell_type": "markdown",
    "id": "bmToL27JaSrf"
   },
   "source": [
    "## Objetivos del lab:\n",
    "\n",
    "\n",
    "- Conocer los elementos básicos que conformar `Git`\n",
    "- Clonar repositorios\n",
    "- Identificar ramas de un repositorio\n",
    "- Reconocer y solucionar problemas entre ramas\n",
    "- Subir cambios a un repositorio"
   ]
  },
  {
   "cell_type": "markdown",
   "metadata": {
    "cell_id": "5ebae9d601bd4d508349ab55297e9f82",
    "deepnote_cell_type": "markdown",
    "id": "bvnPCvrVbJLK"
   },
   "source": [
    "## Parte 1: Conocimiento Teórico (2.5 pts)\n",
    "\n",
    "<p align=\"center\">\n",
    "  <img src=\"https://cdn.thedesigninspiration.com/wp-content/uploads/sites/3/2019/04/macintosh-hdusersbrittanyloefflerdownloadsanig-1.gif\" width=\"350\">\n",
    "</p>"
   ]
  },
  {
   "cell_type": "markdown",
   "metadata": {
    "cell_id": "627494dba4f84520b3ee8b9cbf58ee79",
    "deepnote_cell_type": "markdown",
    "id": "JHl-24XnbNLF"
   },
   "source": [
    "Responda las siguientes preguntas (0.2 pts c/u):\n",
    "\n",
    "1. ¿Qué es `Git` y cómo se relaciona con el control de versiones?\n",
    "\n",
    "2. Nombre y explique 3 diferencias entre `Git` y `Github`.\n",
    "\n",
    "3. ¿Qué es un `hash` y cómo se representa en un `commit`? De un ejemplo.\n",
    "\n",
    "4. ¿Que elementos componen a la estructura de datos de `Git`?\n",
    "\n",
    "5. ¿Que comandos de `Git` sirven para crear un repositorio y hacer seguimiento a cambios en los archivos?"
   ]
  },
  {
   "cell_type": "markdown",
   "metadata": {
    "cell_id": "6d06c40f429044a298b27c666f51f46f",
    "deepnote_cell_type": "markdown",
    "id": "2tXCSkf0caG8"
   },
   "source": [
    "<code>Escriba sus respuestas acá:</code>\n",
    "\n",
    "1. ¿Qué es Git y cómo se relaciona con el control de versiones?\n",
    "\n",
    "Git es un sistema de control de versiones distribuido, poderoso, eficiente y flexible, para mantener versiones sucesivas y concurrentes de un proyecto de desarrollo de codigo, facilitabdo el trabajo colaborativo de proyectos sin necesariamente trabajar en un mismo equipo o estar conectados a la misma red.\n",
    "\n",
    "Git ayuda a manejar las distintas versiones de un proyecto, permitiendo guardar puntos de control de cambios en el código, lo que significa que Git guarda un snapshot del estado actual de un proyecto. Esto permite revertir a versiones anteriores si se requiere o algo sale mal.\n",
    "\n",
    "Permite a varias personas de un equipo trabajar en diferentes \"ramas\" del mismo proyecto simultáneamente, sin interferir el uno con el otro. Estas ramas pueden ser fusionadas (merge) para integrar los cambios.\n",
    "\n",
    "Lleva un registro de los cambios que se han hecho, quién los hizo, cuándo y qué fue lo que realizo. Esto sirve para auditar el trabajo y/o problemas o entender el desarrollo del proyecto.\n",
    "\n",
    "Git puede usarse localmente en un solo computador, con un sistema local de cliente-servidor, o en servicios publicos como GitHub, GitLab o Bitbucket, que facilitan la colaboración entre los miembros de un equipo en forma remota.\n",
    "\n",
    "2. Nombre y explique 3 diferencias entre Git y Github.\n",
    "\n",
    "Git es una herramienta para el control de versiones en el desarrollo de codigo, mientras que GitHub es una plataforma de internet de servicio publico que extiende las capacidades de Git para mejorar la colaboración y la gestión de proyectos en ambiente web.\n",
    "\n",
    "Git se ejecuta localmente en la computadora del usuario, permitiéndole trabajar en el código incluso sin conexión a internet. Como herramienta de control de versiones distribuido, se enfoca en la gestión de versiones de código, permitiendo a los usuarios realizar un seguimiento de los cambios en los archivos, revertir a versiones anteriores del código, y manejar múltiples ramas de desarrollo dentro del mismo proyecto. GitHub es un servicio de alojamiento de repositorios Git en servidores en internet. Provee una interfaz web para Git junto con características adicionales como alojamiento de código, documentación, seguimiento de problemas, y solicitudes de extracción (pull requests), facilitando la colaboración y el trabajo en equipo en proyectos de software. GitHub utiliza Git en el backend, pero añade una capa de funcionalidad social y de interfaz de usuario que no está presente en la herramienta Git como tal.\n",
    "\n",
    "Git permite a los desarrolladores trabajar de manera local en sus proyectos, gestionar versiones y realizar cambios en el código sin necesidad de acceso a internet o a un servidor central. Git sirve para el control de versiones y el trabajo individual o en pequeños equipos donde la colaboración se gestiona a través de intercambios directos de actualizaciones. GitHub, al ser una plataforma basada en la web, facilita la colaboración en proyectos a gran escala al proporcionar herramientas para discutir problemas, revisar código y contribuir a proyectos de otros desarrolladores a través de forks y solicitudes de extracción, de forma centralizada y eliminando la redundancia o repeteicion de archivos. Esto lo hace ideal para proyectos de código abierto y para equipos de desarrollo que están distantes geográficamente.\n",
    "\n",
    "Git, como herramienta de línea de comandos, se centra exclusivamente en el control de versiones. No tiene características de interfaz grafica de usuario incorporadas para el seguimiento de tareas o la gestión de proyectos; su propósito es mantener un registro de los cambios en los archivos y coordinar el trabajo entre múltiples colaboradores. GitHub proporciona una serie de características adicionales diseñadas para mejorar la colaboración y la gestión de proyectos, como un sistema de seguimiento de problemas (issues), una wiki para cada repositorio, herramientas de revisión de código en las solicitudes de extracción, y una interfaz gráfica de usuario para visualizar los repositorios.\n",
    "\n",
    "3. ¿Qué es un hash y cómo se representa en un commit? De un ejemplo.\n",
    "\n",
    "Un hash en el contexto de Git es una cadena de caracteres que sirve como una \"huella digital\" única para cada commit (o conjunto de cambios) que se realiza en un repositorio. Este hash se genera utilizando un algoritmo de hash criptográfico, SHA-1, a partir del contenido del commit (incluyendo los cambios en los archivos, el autor del commit, la marca de tiempo y el mensaje del commit, entre otros datos). Es una cadena alfanumérica larga que identifica de manera única los cambios de un commit.\n",
    "\n",
    "El propósito principal de un hash es identificar de manera única cada commit en el historial o log del proyecto. Como se basa en el contenido del commit, cualquier cambio, por mínimo que sea, devuelve un hash completamente diferente. Esto es util para la integridad y el seguimiento de los cambios en Git, ya que permite verificar que el contenido no ha sido alterado. Permite referenciar commits específicos; si se requiere ver los cambios introducidos por un commit en particulart o revertir el proyecto a este estado determinado, se puede usar el hash con comandos de Git, como git show o git checkout, para tales propositos.\n",
    "\n",
    "Ejemplo:\n",
    "<code>\n",
    "commit 1a410efbd13591db07496601ebc7a059dd55cfe9\n",
    "Author: Javier Mora <jmora@dcc.uchile.cl>\n",
    "Date:   Sat Mar 27 14:53:15 2021 -0400\n",
    "\n",
    "        Arreglar bug en el módulo de login\n",
    "</code>\n",
    "\n",
    "En este ejemplo, 1a410efbd13591db07496601ebc7a059dd55cfe9 es el hash del commit.\n",
    "\n",
    "4. ¿Que elementos componen a la estructura de datos de Git?\n",
    "\n",
    "La estructura de datos de Git se compone de varios elementos que funcionan de forma integrada para gestionar el historial de versiones de un proyecto, permitiendo a los usuarios realizar un seguimiento de los cambios en los archivos, revertir cambios, colaborar en el código, etc, manteniendo la integridad e historial completo del proyecto. Entre los más importantes se encuentran:\n",
    "\n",
    "Blob (Binary Large OBject). Cada archivo en un repositorio Git se almacena como un \"blob\", que es el contenido del archivo con un encabezado. No contiene metadatos del archivo como su nombre o la ruta; es simplemente un contenedor para los datos. Cada blob es identificado por un hash SHA-1, que se calcula a partir de su contenido. Si 2 archivos en el repositorio son idénticos, apuntarán al mismo blob, ahorrando espacio.\n",
    "\n",
    "Trees. Un \"tree\" en Git representa un directorio. Contiene referencias a los blobs (archivos) y/o a otros árboles (subdirectorios) que contiene, junto con sus nombres y permisos (por ejemplo, si son ejecutables o no). Cada rama es identificado por un hash SHA-1, que se calcula a partir de su contenido (la combinación de los hashes de los blobs y árboles que referencia).\n",
    "\n",
    "Commits. Captura el estado de un proyecto en un momento dado, como una foto. Cada commit contiene una referencia a un árbol (que representa la raíz del proyecto en ese estado), el autor del commit, un mensaje que describe los cambios realizados, y referencias a uno o más commits padres. El primer commit en un repositorio (commit inicial) no tiene padres, mientras que un commit normal tiene un solo padre, y un commit de fusión (merge commit) tiene dos o más padres. Al igual que blobs y árboles, los commits también son identificados por un hash SHA-1, que se calcula a partir de su contenido.\n",
    "\n",
    "Tags (o etiquetas). Sson referencias que apuntan a un commit específico, pero, a diferencia de los hashes de commit, pueden tener nombres significativos y fáciles de recordar, como v1.0. Las etiquetas pueden ser ligeras (apuntando directamente a un commit) o anotadas (almacenadas como objetos completos en la base de datos de Git que contienen un mensaje de etiqueta, un autor, y una fecha, además de apuntar a un commit).\n",
    "\n",
    "Referencias. Las referencias son punteros a commits. Incluyen, entre otros, las ramas (branches) y las etiquetas (tags). Una rama en Git es simplemente una referencia ligera y mutable que apunta al último commit en una línea de desarrollo. La referencia especial HEAD apunta al commit actual en el que te encuentras, y puede ser \"movida\" al cambiar de rama o al realizar nuevos commits.\n",
    "\n",
    "5. ¿Que comandos de Git sirven para crear un repositorio y hacer seguimiento a cambios en los archivos?\n",
    "\n",
    "Para trabajar con Git y manejar un proyecto, hay varios comandos básicos que son esenciales para crear un repositorio y hacer seguimiento a los cambios en los archivos. Los comandos base para empezar a trabajar con Git en cualquier proyecto son \"init, add, status, commit, log\", permitiéndo inicializar un repositorio, hacer seguimiento de los cambios, confirmarlos y ver el historial de trabajo.:\n",
    "\n",
    "git init: comando para iniciar un nuevo repositorio de Git en el directorio principal de un proyecto. Al ejecutarlo, Git creará un nuevo subdirectorio llamado .git que contiene todos los archivos necesarios para el repositorio. A partir de aqui se puede realizar seguimiento de los archivos en un proyecto.\n",
    "\n",
    "git add: Después de crear o modificar archivos en un proyecto, se usa git add para comenzar a hacer seguimiento de los cambios. Este comando agrega los archivos al área de \"staging\", que es como una zona de preparación antes de confirmar los cambios en el repositorio.\n",
    "\n",
    "Para agregar un archivo específico se usa:\n",
    "\n",
    "<code> git add nombre_del_archivo</code>\n",
    "\n",
    "Para agregar todos los archivos modificados se usa:\n",
    "\n",
    "<code> git add . </code>\n",
    "\n",
    "git status: comando que permite ver el estado actual de un repositorio, mostrando los cambios que han sido agregados al staging, los que no se han agregado, y los archivos que Git no está siguiendo.\n",
    "\n",
    "<code> git status </code>\n",
    "\n",
    "git commit: Una vez que se han agregado cambios al área de staging con git add, se usa git commit para confirmar estos cambios en el repositorio. Esto guarda una foto de los cambios, permitiéndo crear un registro claro del historial del proyecto.\n",
    "\n",
    "Para hacer un commit con un mensaje descriptivo se usa:\n",
    "\n",
    "<code> git commit -m \"Descripción de los cambios realizados\" </code>\n",
    "\n",
    "git log: comando que muestra el historial de commits en el repositorio, permitiéndo ver los cambios que se han confirmado a lo largo del tiempo, quién los hizo y cuándo.\n",
    "\n",
    "<code> git log </code>"
   ]
  },
  {
   "cell_type": "markdown",
   "metadata": {
    "cell_id": "ec9855406e324cc98b59e33500faea84",
    "deepnote_cell_type": "markdown",
    "id": "MACccbP4gU43"
   },
   "source": [
    "Responda si las siguientes afirmaciones son Verdaderas (V) o Falsas (F). Justifique en **cualquiera** de los casos (0.2 pts c/u):\n",
    "\n",
    "\n",
    "6. `Git` siempre resuelve automáticamente los problemas de lineas al hacer merge entre diferentes ramas.\n",
    "7. Ejecutar `git pull` sobre un repositorio es equivalente a ejecutar `git clone`.\n",
    "8. `git status` genera los mismos resultados que `git log`.\n",
    "9. En `Git` es posible deshacer cambios y volver a versiones anteriores del código.\n",
    "10. El comando `git commit` se utiliza para enviar cambios al repositorio remoto."
   ]
  },
  {
   "cell_type": "markdown",
   "metadata": {
    "cell_id": "7e6a5a6e15b045cc9d104cf017825f1a",
    "deepnote_cell_type": "markdown",
    "id": "DFnmCToOgeM3"
   },
   "source": [
    "<code>Escriba sus respuestas acá:</code>\n",
    "\n",
    "6. `Git` siempre resuelve automáticamente los problemas de lineas al hacer merge entre diferentes ramas.\n",
    "\n",
    "Falso. Git intenta resolver automáticamente los merges cuando es posible, pero no siempre puede hacerlo, especialmente si hay cambios conflictivos en las mismas líneas de diferentes ramas. En esos casos, Git marca los archivos como conflictivos y requerirá que el usuario resuelva manualmente los conflictos antes de completar el merge.\n",
    "\n",
    "7. Ejecutar `git pull` sobre un repositorio es equivalente a ejecutar `git clone`.\n",
    "\n",
    "Falso. git clone y git pull sirven para propósitos diferentes. git clone se usa para hacer una copia local de un repositorio remoto, incluyendo todo su historial de commits. Por otro lado, git pull se usa en un repositorio ya clonado para actualizarlo con los cambios desde el repositorio remoto, básicamente es una combinación de git fetch seguido de git merge.\n",
    "\n",
    "8. `git status` genera los mismos resultados que `git log`.\n",
    "\n",
    "Falso. git status y git log entregan información diferente. git status entrega un resumen del estado actual del repositorio, mostrando cambios que están como staged, unstaged, y archivos que no están siendo rastreados por Git. git log, por otro lado, muestra el historial de commits del repositorio, incluyendo el autor, la fecha y el mensaje de cada commit.\n",
    "\n",
    "9. En `Git` es posible deshacer cambios y volver a versiones anteriores del código.\n",
    "\n",
    "Verdadero. Git tiene herramientas para revertir cambios y volver a estados anteriores. git checkout se puede usar para cambiar entre versiones de archivos o ramas, git revert para revertir cambios de un commit específico y git reset para restablecer el HEAD a un commit anterior, descartando los cambios posteriores.\n",
    "\n",
    "10. El comando `git commit` se utiliza para enviar cambios al repositorio remoto.\n",
    "\n",
    "Falso. git commit se utiliza para guardar cambios en el repositorio local, creando una foto del estado actual de los archivos que están en staging. Para enviar estos cambios al repositorio remoto, se debe usar git push, que transfiere los commits del repositorio local al remoto."
   ]
  },
  {
   "cell_type": "markdown",
   "metadata": {
    "cell_id": "54317cad024744ebaf4938df55ba3b95",
    "deepnote_cell_type": "markdown",
    "id": "LYq55sI2Rjf0"
   },
   "source": [
    "Por último, investigue y comente para qué sirven los siguientes comandos:\n",
    "\n",
    "11. `git stash` (0.25 puntos)\n",
    "\n",
    "El comando git stash se utiliza para guardar de manera temporal los cambios en el directorio de trabajo que aún no está listo para committear. Esto permite cambiar de contexto y trabajar en una rama diferente sin perder los cambios actuales. Es útil en situaciones donde no se quiere hacer un commit de trabajo incompleto solo para cambiar de rama. git stash es útil para guardar cambios de forma temporal sin committear.\n",
    "\n",
    "Por ejemplo, si se está trabajando en una nueva característica y se necesita arreglar un error urgente en otra parte del código, se puede usar git stash para \"contener\" los cambios actuales, cambiar a la rama donde se necesita hacer el arreglo, y luego volver a aplicar los cambios más tarde con git stash pop o git stash apply.\n",
    "\n",
    "13. `git reset`. ¿Cuál es la diferencia de este comando con `git revert`?. (0.25 puntos)\n",
    "\n",
    "El comando git reset se usa para deshacer cambios en un repositorio local. Es una muy buena herramienta para deshacer cambios en un repositorio local en diferentes niveles. Dependiendo de los flags que se usen, puede afectar al índice (el área de staging), al HEAD (el último commit en tu rama actual), o al directorio de trabajo. Hay tres modos principales de usar git reset:\n",
    "\n",
    "--soft: Al usar git reset --soft <commit>, se moverá el HEAD a un commit específico, pero no modificará el índice ni el directorio de trabajo. Esto es útil si solo se quiere deshacer el último commit pero mantener los cambios en el área de staging para corregir y volver a committear.\n",
    "\n",
    "--mixed (por defecto): git reset <commit> o git reset --mixed <commit> moverá el HEAD a un commit específico y también restablecerá el índice para que coincida con ese commit, pero dejará el directorio de trabajo sin cambios. Esto es útil para deshacer un commit y llevar los cambios de nuevo al estado de cambios no preparados (unstaged).\n",
    "\n",
    "--hard: git reset --hard <commit> es la forma más drástica de reset. Mueve el HEAD a un commit específico, luego restablecerá el índice y el directorio de trabajo para coincidir exactamente con ese commit, descartando todos los cambios en el proceso. Esto debe usarse con precaución, ya que elimina efectivamente todos los cambios realizados después del commit al que se resetea."
   ]
  },
  {
   "cell_type": "markdown",
   "metadata": {
    "cell_id": "3e4d8b9974e4426ca38fd20f4b835a55",
    "deepnote_cell_type": "markdown",
    "id": "i7Em9JkbbRLo"
   },
   "source": [
    "## Parte 2: Creando una presentación personal (1.5 pts)\n",
    "\n",
    "<p align=\"center\">\n",
    "  <img src=\"https://media.tenor.com/arqlNu8gyJYAAAAC/cat-cat-jumping.gif\" width=\"150\">\n",
    "</p>\n",
    "\n"
   ]
  },
  {
   "cell_type": "markdown",
   "metadata": {
    "cell_id": "988648005dba4b9782c6625dfe6ae4ef",
    "deepnote_cell_type": "markdown",
    "id": "XWIHfyrlbYOJ"
   },
   "source": [
    "Para empezar a \"*soltar las manos*\" con `Git`, se les encomienda crear un repositorio con una presentación personal. El repositorio debe contener un breve resumen de quienes son ustedes, sus gustos, experiencias, y cualquier otro detalle interesante que ustedes consideren relevante.\n",
    "\n",
    "Para realizar esto, deben seguir los siguientes pasos:\n",
    "\n",
    "1. Contar con una cuenta de github (1 por persona)\n",
    "2. Crear un repositorio con su nombre de usuario\n",
    "3. Vincular el repositorio a su ambiente local ¿Qué comando(s) me permiten hacer esto?\n",
    "4. Crear un archivo `readme.md` con la información que ustedes deseen compartir.\n",
    "5. Realizar `push` con los cambios generados\n",
    "\n",
    "A modo de ejemplo, pueden guiarse por esta *suculenta* [presentación](https://github.com/Mezosky)\n",
    "\n",
    "**Nota: Deben trabajar todos estos puntos desde su ambiente local**\n",
    "\n",
    "*Hint: Una buena opción es usar templates de presentación personal que encuentren en Google, como los que ofrece este [sitio](https://durgeshsamariya.github.io/awesome-github-profile-readme-templates/#/)*.\n",
    "\n",
    "**Entregable:**\n",
    "\n",
    "Enlace al repositorio con la presentación personal.\n",
    "\n",
    "IMPORTANTE: DEBEN ADJUNTAR UN ENLACE POR PERSONA"
   ]
  },
  {
   "cell_type": "markdown",
   "metadata": {
    "cell_id": "081b38d55dc54282bc8e3cd300ce9d3e",
    "deepnote_cell_type": "markdown",
    "id": "IIkWyl9tf0Sg"
   },
   "source": [
    "<code>Link Presentacion 1:\n",
    "\n",
    "https://github.com/javier-mora-ds/javiermora.git\n",
    "\n",
    "</code>\n"
   ]
  },
  {
   "cell_type": "markdown",
   "metadata": {
    "cell_id": "0481a05d2d1a46928f6cfb7762720980",
    "deepnote_cell_type": "markdown",
    "id": "CAzXOwvDY-IG"
   },
   "source": [
    "## Parte 3: Trabajando sobre un repositorio externo (2 pts)\n",
    "\n",
    "<p align=\"center\">\n",
    "  <img src=\"https://media.tenor.com/YXL-0SK15j4AAAAC/dance-animals.gif\" width=\"300\">\n",
    "</p>\n",
    "\n",
    "Tras muchos dolores de cabeza, un grupo de entusiastas académicos decidieron aprender sobre `Git` y así trabajar colaborativamente de forma más ordenada y eficiente. Después de una infinidad de intentos y aprender de sus errores \"*a la mala*\", los académicos lograron levantar un [repositorio](https://github.com/MDS7202/lab1) en `Github`. Usando el repositorio de los académicos, responda las siguientes preguntas (**incluya también los comandos en `Git` ocupados**):\n"
   ]
  },
  {
   "cell_type": "markdown",
   "metadata": {
    "cell_id": "bcef73b2e8604579bde90ed6622abfe9",
    "deepnote_cell_type": "markdown",
    "id": "BFRnAw0rfguR"
   },
   "source": [
    "1. Clone el repositorio a su ambiente local. (0.25 pts)"
   ]
  },
  {
   "cell_type": "markdown",
   "metadata": {
    "cell_id": "5d126ac3819c44479af94d3895bc4c97",
    "deepnote_cell_type": "markdown",
    "id": "KXro32yBeilN"
   },
   "source": [
    "<code>Escriba sus respuestas acá:\n",
    "\n",
    "git clone https://github.com/MDS7202/lab1.git\n",
    "\n",
    "</code>"
   ]
  },
  {
   "cell_type": "markdown",
   "metadata": {
    "cell_id": "e215e4e25b2440f09ac273ba63603986",
    "deepnote_cell_type": "markdown",
    "id": "8QB-GKmQRjf1"
   },
   "source": [
    "2. Descomprima los archivos subidos con la tarea en U-cursos en la carpeta recién clonada de github. Una vez realizado esto, cree un archivo `.gitignore` con el cual omita la carpeta `videos` y los archivos con la extensión `.txt` exceptuando el archivo `171.txt` de la carpeta `texts`. (0.25 pts)"
   ]
  },
  {
   "cell_type": "markdown",
   "metadata": {
    "cell_id": "186233b44d004e3bbd86262d010188b5",
    "deepnote_cell_type": "markdown",
    "id": "7VJ8IIYpRjf1"
   },
   "source": [
    "<code>Para esta pregunta usted deberá adjuntar el .gitignore creado en su repo.</code>"
   ]
  },
  {
   "cell_type": "markdown",
   "metadata": {
    "cell_id": "1de150590a41484a988b8e46616a2324",
    "deepnote_cell_type": "markdown",
    "id": "q2qmiDyjt2M_"
   },
   "source": [
    "3. Inspeccione brevemente el repositorio: ¿Cual es el objetivo del proyecto? Explique brevemente la estructura del proyecto, asi como también cada elemento que lo conforma. (0.25 pts)"
   ]
  },
  {
   "cell_type": "markdown",
   "metadata": {
    "cell_id": "082ca01c865e48e28352b280400c47b6",
    "deepnote_cell_type": "markdown",
    "id": "aBHpR8VTftkT"
   },
   "source": [
    "<code>Escriba sus respuestas acá:</code>\n",
    "\n",
    "el proyecto es realizado en lenguaje Python diseñado para trabajar con conceptos relacionados con animales, emulando sus sonidos través de código.\n",
    "\n",
    "contiene los siguientes elementos principales en su raíz:\n",
    "\n",
    "animales.py: contiene una funcion que devuelve un strinh descriptivo del sonido que emite al animal ingresado como input con 3 alternativas de animales, y devuelve mensaje de error si se ingresa otro animal fuera de las alternativas,\n",
    "\n",
    "main.py: instancia la clase del archivo animales.py\n",
    "\n",
    "readme.md: describe brevemente el proyecto junto con una imagen ad-hoc"
   ]
  },
  {
   "cell_type": "markdown",
   "metadata": {
    "cell_id": "3aab4a3ee0c246e1be955680ad653fb8",
    "deepnote_cell_type": "markdown",
    "id": "XFwqcpLZfylf"
   },
   "source": [
    "4. Identifique los últimos cambios al repositorio, reconociendo las principales ramas de trabajo. ¿Son informativos los `commit` realizados? (0.25 pts)\n",
    "*Hint: Se recomienda usar los argumentos `all`, `graph` y `decorate`*"
   ]
  },
  {
   "cell_type": "markdown",
   "metadata": {
    "cell_id": "0fab79a360ac4c6a9ca0ab884f85c7e1",
    "deepnote_cell_type": "markdown",
    "id": "cmWfXBkOhog0"
   },
   "source": [
    "<code>Escriba sus respuestas acá:</code>"
   ]
  },
  {
   "cell_type": "markdown",
   "metadata": {
    "cell_id": "d07b24d21f2343fb9a7e6a5db74e98c3",
    "deepnote_cell_type": "markdown",
    "id": "Vqbj9HdXrUnN"
   },
   "source": [
    "5. Uno de los académicos se da cuenta que la rama principal de trabajo no se ejecuta correctamente para todos los argumentos. Señale y explique el error en el código e identifique a la persona que lo cometió usando `git blame` (0.25 pts)\n",
    "\n",
    "*Hint: Le puede ser útil esta [documentación](https://www.atlassian.com/es/git/tutorials/inspecting-a-repository/git-blame).*"
   ]
  },
  {
   "cell_type": "markdown",
   "metadata": {
    "cell_id": "bc5b0f9c639643108f8e66687b721732",
    "deepnote_cell_type": "markdown",
    "id": "5ajhV2Iar3tV"
   },
   "source": [
    "<code>Escriba sus respuestas acá:</code>\n",
    "\n",
    "<code>git log --all --graph --decorate</code>\n",
    "\n",
    "* commit 25543a3baf77292baf849726784ca005473acab1 (origin/fix-ifs)\n",
    "| Author: Pablo Badilla <pbadilla.torrealba@gmail.com>\n",
    "| Date:   Thu Mar 23 22:50:49 2023 -0300\n",
    "| \n",
    "|     fix ifs\n",
    "|   \n",
    "| * commit 362fe21ee44f53ee944cee4ba484600308f83d78 (HEAD -> main, origin/new_features, origin/main, origin/HEAD)\n",
    "|/  Author: mezosky <ignacio.meza@ug.uchile.cl>\n",
    "|   Date:   Thu Mar 23 21:47:34 2023 -0300\n",
    "|   \n",
    "|       Se separa el proyecto en modulos\n",
    "| \n",
    "* commit c8b1a62d7299552b0654f930d695b33109214111\n",
    "| Author: seba <stinoco@fen.uchile.cl>\n",
    "| Date:   Wed Mar 22 17:28:19 2023 -0300\n",
    "| \n",
    "|     se agrega funcion\n",
    "| \n",
    "* commit b262d86411a6b017e99bf0731e33a6787739247c\n",
    "  Author: seba <stinoco@fen.uchile.cl>\n",
    "  Date:   Wed Mar 22 17:25:30 2023 -0300\n",
    "  \n",
    "      primer commit"
   ]
  },
  {
   "cell_type": "markdown",
   "metadata": {
    "cell_id": "f3f4e78e6d9145ebbb120c0a2e4aade6",
    "deepnote_cell_type": "markdown",
    "id": "m8J3uE7MhqTA"
   },
   "source": [
    "6. Busque los siguientes `commit`:\n",
    "\n",
    "- `c8b1a62d7299552b0654f930d695b33109214111`\n",
    "- `362fe21ee44f53ee944cee4ba484600308f83d78`\n",
    "- `25543a3baf77292baf849726784ca005473acab1`\n",
    "\n",
    "¿Qué diferencias existen entre cada uno? (0.25 pts)"
   ]
  },
  {
   "cell_type": "markdown",
   "metadata": {
    "cell_id": "696ed361ac0c41c8a214cfad9dcb39e6",
    "deepnote_cell_type": "markdown",
    "id": "sNHnZsgIitGh"
   },
   "source": [
    "<code>Escriba sus respuestas acá:</code>\n",
    "\n",
    "<code>git show c8b1a62d7299552b0654f930d695b33109214111</code>\n",
    "\n",
    "Commit c8b1a62d7299552b0654f930d695b33109214111\n",
    "Autor: seba stinoco@fen.uchile.cl\n",
    "Fecha: Wed Mar 22 17:28:19 2023 -0300\n",
    "Descripción: se agrega función\n",
    "Cambios:\n",
    "Se introdujo una nueva función animales en el archivo main.py, que imprime el sonido correspondiente al animal ingresado (gato, perro, fox) , imprime un sonido asociado o un enlace de YouTube si el input es 'fox'. Si el animal no es reconocido, lanza una excepción ValueError.\n",
    "Se llamó a la nueva función animales dentro del bloque if __name__ == '__main__': del mismo archivo.\n",
    "\n",
    "<code>git show 362fe21ee44f53ee944cee4ba484600308f83d78</code>\n",
    "\n",
    "Commit 362fe21ee44f53ee944cee4ba484600308f83d78\n",
    "Autor: mezosky ignacio.meza@ug.uchile.cl\n",
    "Fecha: Thu Mar 23 21:47:34 2023 -0300\n",
    "Descripción: Se separa el proyecto en módulos\n",
    "Cambios:\n",
    "se realiza una modificación estructural al proyecto, separando la función animales en un nuevo módulo llamado animales.py y modificando main.py para importar y usar la función desde este nuevo módulo.\n",
    "La función animales fue movida de main.py a un nuevo archivo animales.py, modularizando el código.\n",
    "En main.py, se eliminó la definición de la función animales y se añadió una importación de esta función desde el nuevo archivo animales.py\n",
    "\n",
    "\n",
    "<code>git show 25543a3baf77292baf849726784ca005473acab1</code>\n",
    "\n",
    "Commit 25543a3baf77292baf849726784ca005473acab1\n",
    "Autor: Pablo Badilla pbadilla.torrealba@gmail.com\n",
    "Fecha: Thu Mar 23 22:50:49 2023 -0300\n",
    "Descripción: fix ifs\n",
    "Cambios:\n",
    "Se modificaron las condiciones if en la función animales dentro de main.py, cambiándolas por elif para asegurar que solo se ejecute un bloque de código correspondiente al animal ingresado. Esto corrige la lógica para que no se ejecuten múltiples bloques si se cumple más de una condición.\n",
    "\n",
    "El primer commit añadió una nueva funcionalidad directamente en main.py.\n",
    "El segundo commit refactoreó el código moviendo la funcionalidad a un nuevo módulo, lo que mejora la estructura y modularidad del proyecto.\n",
    "El tercer commit corrigió la lógica de las condiciones en la función animales, cambiando if por elif para evitar la ejecución de múltiples bloques de condiciones.\n"
   ]
  },
  {
   "cell_type": "markdown",
   "metadata": {
    "cell_id": "b4e18f8ce94c430f85915c4e2732d05b",
    "deepnote_cell_type": "markdown",
    "id": "WQIPbfNCgpxC"
   },
   "source": [
    "7. Realice una `merge` de la rama `fix-ifs` con la rama `main` y describa lo que ocurre. ¿Qué parte del código podría estar ocasionando esto? (0.25 pts)"
   ]
  },
  {
   "cell_type": "markdown",
   "metadata": {
    "cell_id": "36da6a0d4f4a427bbccac09e2ae965fd",
    "deepnote_cell_type": "markdown",
    "id": "ypH_6lL5ioZz"
   },
   "source": [
    "<code>Escriba sus respuestas acá:</code>\n",
    "\n",
    "<code>git merge origin/fix-ifs</code>\n",
    "\n",
    "Auto-merging main.py\n",
    "CONFLICT (content): Merge conflict in main.py\n",
    "Automatic merge failed; fix conflicts and then commit the result.\n",
    "\n",
    "\n",
    "El mensaje de error indica que hay un conflicto de merge en el archivo main.py. Los conflictos de merge ocurren cuando dos ramas han realizado cambios incompatibles en el mismo segmento de un archivo.\n",
    "\n",
    "Cambios Relevantes en main.py:\n",
    "\n",
    "En la rama principal (main), debido al commit 362fe21ee44f53ee944cee4ba484600308f83d78:\n",
    "\n",
    "Se separó el proyecto en módulos, moviendo la función animales a animales.py.\n",
    "Se modificó main.py para importar y usar la función animales desde animales.py.\n",
    "\n",
    "En la rama fix-ifs, debido al commit 25543a3baf77292baf849726784ca005473acab1:\n",
    "\n",
    "Se realizó una corrección en las estructuras condicionales (if) dentro de la función animales, cambiándolas por elif para mejorar la lógica.\n",
    "\n",
    "El conflicto probablemente proviene de las diferentes modificaciones realizadas a la función animales en main.py. En la rama main, esta función fue eliminada y reemplazada por una importación desde animales.py, mientras que en la rama fix-ifs, la función original dentro de main.py fue modificada para corregir la lógica de los condicionales.\n",
    "\n",
    "Cuando se intenta hacer merge de fix-ifs en main, Git encuentra que main ya no tiene la función animales dentro de main.py (porque ahora se importa desde otro archivo), mientras que fix-ifs intenta modificar esa misma función que ya no existe en la misma forma en main.\n"
   ]
  },
  {
   "cell_type": "markdown",
   "metadata": {
    "cell_id": "09787ab449c543479e5cc54c2a3b6c19",
    "deepnote_cell_type": "markdown",
    "id": "GYfODCjeivkU"
   },
   "source": [
    "8. Cree una rama nueva y proponga una solución al problema anterior, adjuntando el código corregido y señalando las líneas modificadas. (0.25 pts)"
   ]
  },
  {
   "cell_type": "markdown",
   "metadata": {
    "cell_id": "6d963fba3f2d4c17a4b281c7d3f4fb8b",
    "deepnote_cell_type": "markdown",
    "id": "8heBxDU9iziT"
   },
   "source": [
    "<code>Escriba sus respuestas acá:</code>\n",
    "\n",
    "<code>git checkout -b fix-merge-conflict</code>\n",
    "\n",
    "Resolver el conflicto en main.py:\n",
    "\n",
    "Dado que la función animales fue movida a animales.py, los cambios de la rama fix-ifs deberían aplicarse ahi.\n",
    "Para mantener la estructura modular, los cambios de elif deben aplicar a animales.py.\n",
    "\n",
    "Editar animales.py para corregir la lógica de los condicionales como se propuso en fix-ifs.\n",
    "\n",
    "<code>\n",
    "def animales(input):\n",
    "    '''\n",
    "    Como hace el animalito?\n",
    "    '''\n",
    "    if input.lower() == 'gato':\n",
    "        print('miau')\n",
    "    elif input.lower() == 'perro':  # Linea modificada\n",
    "        print('guau')\n",
    "    elif input.lower() == 'fox':  # Linea modificada\n",
    "        print('https://www.youtube.com/watch?v=jofNR_WkoCE')\n",
    "    else:\n",
    "        raise ValueError('animal no reconocido :(')\n",
    "</code>\n",
    "\n",
    "\n",
    "\n",
    "Hacer commit de los cambios:\n",
    "\n",
    "<code>git add animales.py</code>\n",
    "\n",
    "<code>git commit -m \"Resuelve conflictos de merge aplicando correcciones de ifs en animales.py\"</code>\n",
    "\n",
    "fusionar esta rama de vuelta en main:\n",
    "\n",
    "<code>git checkout main</code>\n",
    "<code>git merge fix-merge-conflict</code>\n",
    "\n"
   ]
  },
  {
   "cell_type": "markdown",
   "metadata": {
    "cell_id": "8a47d4bf8b3045d68e4f29bb449c87f1",
    "deepnote_cell_type": "markdown",
    "id": "Av8ebB9jkALO"
   },
   "source": [
    "## Fin"
   ]
  },
  {
   "cell_type": "markdown",
   "metadata": {
    "cell_id": "cec4b53942ed489f8f8b63d0e9d4f3e5",
    "deepnote_cell_type": "markdown",
    "id": "aQqZT9fSkBK8"
   },
   "source": [
    "Eso ha sido todo por ahora!! Esperamos que este laboratorio les haya gustado y servido para trabajar con `Git`. Recuerden los dias de plazo que tienen disponibles y que ante cualquier duda no duden en contactar al equipo docente.\n",
    "\n",
    "Nos vemos!!\n",
    "\n",
    "<p align=\"center\">\n",
    "  <img src=\"https://media.tenor.com/OYLdav9k9LkAAAAd/kitty-cat.gif\" width=\"350\">\n",
    "</p>\n"
   ]
  }
 ],
 "metadata": {
  "colab": {
   "provenance": []
  },
  "deepnote_execution_queue": [],
  "deepnote_notebook_id": "62cd20d52b9a4810ada15644630456dc",
  "kernelspec": {
   "display_name": "Python 3 (ipykernel)",
   "language": "python",
   "name": "python3"
  },
  "language_info": {
   "codemirror_mode": {
    "name": "ipython",
    "version": 3
   },
   "file_extension": ".py",
   "mimetype": "text/x-python",
   "name": "python",
   "nbconvert_exporter": "python",
   "pygments_lexer": "ipython3",
   "version": "3.11.5"
  }
 },
 "nbformat": 4,
 "nbformat_minor": 4
}
